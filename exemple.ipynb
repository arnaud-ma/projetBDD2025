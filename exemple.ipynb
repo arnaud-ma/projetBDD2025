{
 "cells": [
  {
   "cell_type": "code",
   "execution_count": 3,
   "id": "35c76d79",
   "metadata": {},
   "outputs": [],
   "source": [
    "import os\n",
    "\n",
    "import django\n",
    "\n",
    "os.environ.setdefault(\"DJANGO_SETTINGS_MODULE\", \"gestion_immo.settings\")\n",
    "os.environ[\"DJANGO_ALLOW_ASYNC_UNSAFE\"] = \"true\"\n",
    "django.setup()"
   ]
  },
  {
   "cell_type": "code",
   "execution_count": 2,
   "id": "5f91c60b",
   "metadata": {},
   "outputs": [
    {
     "ename": "RuntimeError",
     "evalue": "Conflicting 'lieu' models in application 'agence': <class 'agence.models.Lieu'> and <class 'agence.django.Lieu'>.",
     "output_type": "error",
     "traceback": [
      "\u001b[31m---------------------------------------------------------------------------\u001b[39m",
      "\u001b[31mRuntimeError\u001b[39m                              Traceback (most recent call last)",
      "\u001b[36mCell\u001b[39m\u001b[36m \u001b[39m\u001b[32mIn[2]\u001b[39m\u001b[32m, line 1\u001b[39m\n\u001b[32m----> \u001b[39m\u001b[32m1\u001b[39m \u001b[38;5;28;01mfrom\u001b[39;00m\u001b[38;5;250m \u001b[39m\u001b[34;01magence\u001b[39;00m\u001b[34;01m.\u001b[39;00m\u001b[34;01mdjango\u001b[39;00m\u001b[38;5;250m \u001b[39m\u001b[38;5;28;01mimport\u001b[39;00m Utilisateur\n\u001b[32m      2\u001b[39m \u001b[38;5;28;01mfrom\u001b[39;00m\u001b[38;5;250m \u001b[39m\u001b[34;01magence\u001b[39;00m\u001b[34;01m.\u001b[39;00m\u001b[34;01mmodels\u001b[39;00m\u001b[38;5;250m \u001b[39m\u001b[38;5;28;01mimport\u001b[39;00m Vendeur\n\u001b[32m      5\u001b[39m vendeur = Utilisateur()\n",
      "\u001b[36mFile \u001b[39m\u001b[32m~/cours/M1/S2/projetBDD2025/agence/django.py:13\u001b[39m\n\u001b[32m      3\u001b[39m \u001b[38;5;28;01mfrom\u001b[39;00m\u001b[38;5;250m \u001b[39m\u001b[34;01mphonenumber_field\u001b[39;00m\u001b[34;01m.\u001b[39;00m\u001b[34;01mmodelfields\u001b[39;00m\u001b[38;5;250m \u001b[39m\u001b[38;5;28;01mimport\u001b[39;00m PhoneNumberField\n\u001b[32m      5\u001b[39m \u001b[38;5;66;03m# Create your models here.\u001b[39;00m\n\u001b[32m      6\u001b[39m \n\u001b[32m      7\u001b[39m \n\u001b[32m      8\u001b[39m \u001b[38;5;66;03m# ---------------------------------------------------------------------------- #\u001b[39;00m\n\u001b[32m      9\u001b[39m \u001b[38;5;66;03m#                              region localisation                             #\u001b[39;00m\n\u001b[32m     10\u001b[39m \u001b[38;5;66;03m# ---------------------------------------------------------------------------- #\u001b[39;00m\n\u001b[32m---> \u001b[39m\u001b[32m13\u001b[39m \u001b[38;5;28;43;01mclass\u001b[39;49;00m\u001b[38;5;250;43m \u001b[39;49m\u001b[34;43;01mLieu\u001b[39;49;00m\u001b[43m(\u001b[49m\u001b[43mmodels\u001b[49m\u001b[43m.\u001b[49m\u001b[43mModel\u001b[49m\u001b[43m)\u001b[49m\u001b[43m:\u001b[49m\n\u001b[32m     14\u001b[39m \u001b[43m    \u001b[49m\u001b[43mlongitude\u001b[49m\u001b[43m \u001b[49m\u001b[43m=\u001b[49m\u001b[43m \u001b[49m\u001b[43mmodels\u001b[49m\u001b[43m.\u001b[49m\u001b[43mFloatField\u001b[49m\u001b[43m(\u001b[49m\u001b[43m)\u001b[49m\n\u001b[32m     15\u001b[39m \u001b[43m    \u001b[49m\u001b[43mlatitude\u001b[49m\u001b[43m \u001b[49m\u001b[43m=\u001b[49m\u001b[43m \u001b[49m\u001b[43mmodels\u001b[49m\u001b[43m.\u001b[49m\u001b[43mFloatField\u001b[49m\u001b[43m(\u001b[49m\u001b[43m)\u001b[49m\n",
      "\u001b[36mFile \u001b[39m\u001b[32m~/cours/M1/S2/projetBDD2025/.venv/lib/python3.12/site-packages/django/db/models/base.py:368\u001b[39m, in \u001b[36mModelBase.__new__\u001b[39m\u001b[34m(cls, name, bases, attrs, **kwargs)\u001b[39m\n\u001b[32m    365\u001b[39m     \u001b[38;5;28;01mreturn\u001b[39;00m new_class\n\u001b[32m    367\u001b[39m new_class._prepare()\n\u001b[32m--> \u001b[39m\u001b[32m368\u001b[39m \u001b[43mnew_class\u001b[49m\u001b[43m.\u001b[49m\u001b[43m_meta\u001b[49m\u001b[43m.\u001b[49m\u001b[43mapps\u001b[49m\u001b[43m.\u001b[49m\u001b[43mregister_model\u001b[49m\u001b[43m(\u001b[49m\u001b[43mnew_class\u001b[49m\u001b[43m.\u001b[49m\u001b[43m_meta\u001b[49m\u001b[43m.\u001b[49m\u001b[43mapp_label\u001b[49m\u001b[43m,\u001b[49m\u001b[43m \u001b[49m\u001b[43mnew_class\u001b[49m\u001b[43m)\u001b[49m\n\u001b[32m    369\u001b[39m \u001b[38;5;28;01mreturn\u001b[39;00m new_class\n",
      "\u001b[36mFile \u001b[39m\u001b[32m~/cours/M1/S2/projetBDD2025/.venv/lib/python3.12/site-packages/django/apps/registry.py:234\u001b[39m, in \u001b[36mApps.register_model\u001b[39m\u001b[34m(self, app_label, model)\u001b[39m\n\u001b[32m    226\u001b[39m         warnings.warn(\n\u001b[32m    227\u001b[39m             \u001b[33m\"\u001b[39m\u001b[33mModel \u001b[39m\u001b[33m'\u001b[39m\u001b[38;5;132;01m%s\u001b[39;00m\u001b[33m.\u001b[39m\u001b[38;5;132;01m%s\u001b[39;00m\u001b[33m'\u001b[39m\u001b[33m was already registered. Reloading models is not \u001b[39m\u001b[33m\"\u001b[39m\n\u001b[32m    228\u001b[39m             \u001b[33m\"\u001b[39m\u001b[33madvised as it can lead to inconsistencies, most notably with \u001b[39m\u001b[33m\"\u001b[39m\n\u001b[32m   (...)\u001b[39m\u001b[32m    231\u001b[39m             stacklevel=\u001b[32m2\u001b[39m,\n\u001b[32m    232\u001b[39m         )\n\u001b[32m    233\u001b[39m     \u001b[38;5;28;01melse\u001b[39;00m:\n\u001b[32m--> \u001b[39m\u001b[32m234\u001b[39m         \u001b[38;5;28;01mraise\u001b[39;00m \u001b[38;5;167;01mRuntimeError\u001b[39;00m(\n\u001b[32m    235\u001b[39m             \u001b[33m\"\u001b[39m\u001b[33mConflicting \u001b[39m\u001b[33m'\u001b[39m\u001b[38;5;132;01m%s\u001b[39;00m\u001b[33m'\u001b[39m\u001b[33m models in application \u001b[39m\u001b[33m'\u001b[39m\u001b[38;5;132;01m%s\u001b[39;00m\u001b[33m'\u001b[39m\u001b[33m: \u001b[39m\u001b[38;5;132;01m%s\u001b[39;00m\u001b[33m and \u001b[39m\u001b[38;5;132;01m%s\u001b[39;00m\u001b[33m.\u001b[39m\u001b[33m\"\u001b[39m\n\u001b[32m    236\u001b[39m             % (model_name, app_label, app_models[model_name], model)\n\u001b[32m    237\u001b[39m         )\n\u001b[32m    238\u001b[39m app_models[model_name] = model\n\u001b[32m    239\u001b[39m \u001b[38;5;28mself\u001b[39m.do_pending_operations(model)\n",
      "\u001b[31mRuntimeError\u001b[39m: Conflicting 'lieu' models in application 'agence': <class 'agence.models.Lieu'> and <class 'agence.django.Lieu'>."
     ]
    }
   ],
   "source": [
    "from agence.django import Utilisateur\n",
    "from agence.models import Vendeur\n",
    "\n",
    "\n",
    "vendeur = Utilisateur()\n",
    "# vendeur"
   ]
  },
  {
   "cell_type": "code",
   "execution_count": 4,
   "id": "49e0e60b",
   "metadata": {},
   "outputs": [],
   "source": [
    "from agence.models import Acheteur, Agent, Utilisateur, Vendeur\n",
    "\n",
    "utilisateur = Utilisateur.objects.create(\n",
    "    nom=\"Bambelle\", prenom=\"Larry\", telephone=\"+33158350027\", email=\"bambelle.larry@youhou.fr\"\n",
    ")\n",
    "# acheteur = Acheteur.objects.create(utilisateur_ptr=utilisateur)\n",
    "# vendeur = Vendeur.objects.create(utilisateur_ptr=utilisateur)\n",
    "# # agent = Agent.objects.create(utilisateur_ptr=utilisateur)\n",
    "\n",
    "# # besoin de cette ligne pour créer une instance enfant à partir d'une instance parent\n",
    "# # ca fait 17 ans que des gens demandent que ce soit fait automatiquement mdr\n",
    "# # https://code.djangoproject.com/ticket/7623\n",
    "# acheteur.__dict__.update(utilisateur.__dict__)\n",
    "# vendeur.__dict__.update(utilisateur.__dict__)\n",
    "# # agent.__dict__.update(utilisateur.__dict__)\n",
    "\n",
    "# utilisateur, acheteur, vendeur"
   ]
  },
  {
   "cell_type": "code",
   "execution_count": null,
   "id": "8effe438",
   "metadata": {},
   "outputs": [
    {
     "data": {
      "text/plain": [
       "agence.models.Utilisateur.DoesNotExist()"
      ]
     },
     "execution_count": 10,
     "metadata": {},
     "output_type": "execute_result"
    }
   ],
   "source": [
    "x = Utilisateur(\n",
    "    nom=\"Bambelle\", prenom=\"Larry\", telephone=\"+33158350027\", email=\"bambelle.larry@youhou.fr\"\n",
    ")\n",
    "# find if the user already exists\n",
    "if Utilisateur.objects."
   ]
  },
  {
   "cell_type": "code",
   "execution_count": 4,
   "id": "afaaaa16",
   "metadata": {},
   "outputs": [
    {
     "data": {
      "text/plain": [
       "<QuerySet [<Utilisateur: Larry Bambelle  (bambelle.larry@youhou.fr, +33158350027)>]>"
      ]
     },
     "execution_count": 4,
     "metadata": {},
     "output_type": "execute_result"
    }
   ],
   "source": [
    "Utilisateur.objects.all()"
   ]
  },
  {
   "cell_type": "code",
   "execution_count": 5,
   "id": "394f1257",
   "metadata": {},
   "outputs": [
    {
     "data": {
      "text/plain": [
       "<Utilisateur: Larry Bambelle  (bambelle.larry@youhou.fr, +33158350027)>"
      ]
     },
     "execution_count": 5,
     "metadata": {},
     "output_type": "execute_result"
    }
   ],
   "source": [
    "utilisateur"
   ]
  },
  {
   "cell_type": "code",
   "execution_count": 6,
   "id": "0508729a",
   "metadata": {},
   "outputs": [],
   "source": [
    "acheteur = Acheteur.objects.create(utilisateur=utilisateur)"
   ]
  },
  {
   "cell_type": "code",
   "execution_count": 8,
   "id": "bb5f4cc7",
   "metadata": {},
   "outputs": [
    {
     "data": {
      "text/plain": [
       "'Larry Bambelle  (bambelle.larry@youhou.fr, +33158350027)'"
      ]
     },
     "execution_count": 8,
     "metadata": {},
     "output_type": "execute_result"
    }
   ],
   "source": [
    "str(acheteur)"
   ]
  },
  {
   "cell_type": "code",
   "execution_count": 15,
   "id": "788e7f12",
   "metadata": {},
   "outputs": [
    {
     "data": {
      "text/plain": [
       "<Acheteur: Larry Bambelle  (bambelle.larry@youhou.fr, +33158350027)>"
      ]
     },
     "execution_count": 15,
     "metadata": {},
     "output_type": "execute_result"
    }
   ],
   "source": [
    "acheteur"
   ]
  },
  {
   "cell_type": "code",
   "execution_count": 11,
   "id": "bc3dd1b0",
   "metadata": {},
   "outputs": [
    {
     "data": {
      "text/plain": [
       "1"
      ]
     },
     "execution_count": 11,
     "metadata": {},
     "output_type": "execute_result"
    }
   ],
   "source": [
    "# Utilisateur.objects.get(pk=1)\n",
    "# set(Acheteur.objects.select_related(\"utilisateur_ptr\"))\n",
    "len(Acheteur.objects.filter(email=\"a@2.com\"))"
   ]
  },
  {
   "cell_type": "code",
   "execution_count": 4,
   "id": "0d45cb66",
   "metadata": {},
   "outputs": [
    {
     "data": {
      "text/plain": [
       "{<Vendeur: m m  (a@a3.com, +33787312819)>}"
      ]
     },
     "execution_count": 4,
     "metadata": {},
     "output_type": "execute_result"
    }
   ],
   "source": [
    "set(Vendeur.objects.select_related(\"utilisateur_ptr\"))"
   ]
  }
 ],
 "metadata": {
  "kernelspec": {
   "display_name": ".venv",
   "language": "python",
   "name": "python3"
  },
  "language_info": {
   "codemirror_mode": {
    "name": "ipython",
    "version": 3
   },
   "file_extension": ".py",
   "mimetype": "text/x-python",
   "name": "python",
   "nbconvert_exporter": "python",
   "pygments_lexer": "ipython3",
   "version": "3.12.9"
  }
 },
 "nbformat": 4,
 "nbformat_minor": 5
}
