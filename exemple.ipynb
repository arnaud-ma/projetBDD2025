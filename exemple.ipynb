{
 "cells": [
  {
   "cell_type": "code",
   "execution_count": 1,
   "id": "35c76d79",
   "metadata": {},
   "outputs": [],
   "source": [
    "import os\n",
    "\n",
    "import django\n",
    "\n",
    "os.environ.setdefault(\"DJANGO_SETTINGS_MODULE\", \"gestion_immo.settings\")\n",
    "os.environ[\"DJANGO_ALLOW_ASYNC_UNSAFE\"] = \"true\"\n",
    "django.setup()"
   ]
  },
  {
   "cell_type": "code",
   "execution_count": 5,
   "id": "808937b1",
   "metadata": {},
   "outputs": [
    {
     "name": "stdout",
     "output_type": "stream",
     "text": [
      "Larry Bambelle (bambelle.larry@youhou.fr)\n",
      "Compte acheteur de Larry Bambelle (bambelle.larry@youhou.fr)\n",
      "Compte vendeur de Larry Bambelle (bambelle.larry@youhou.fr)\n"
     ]
    }
   ],
   "source": [
    "from agence.models import Acheteur, Utilisateur, Vendeur\n",
    "\n",
    "utilisateur = Utilisateur.objects.create(\n",
    "    nom=\"Bambelle\", prenom=\"Larry\", telephone=\"+33158350027\", email=\"bambelle.larry@youhou.fr\"\n",
    ")\n",
    "acheteur = Acheteur.objects.create(id_utilisateur=utilisateur)\n",
    "vendeur = Vendeur.objects.create(id_utilisateur=utilisateur)\n",
    "\n",
    "print(utilisateur, acheteur, vendeur, sep=\"\\n\")"
   ]
  },
  {
   "cell_type": "code",
   "execution_count": 6,
   "id": "bc3dd1b0",
   "metadata": {},
   "outputs": [
    {
     "name": "stdout",
     "output_type": "stream",
     "text": [
      "etat:Prospection, vendeur: Compte vendeur de Larry Bambelle (bambelle.larry@youhou.fr)\n"
     ]
    }
   ],
   "source": [
    "from agence.models import Bien\n",
    "\n",
    "bien = Bien.objects.create(id_vendeur=vendeur)\n",
    "print(bien)"
   ]
  }
 ],
 "metadata": {
  "kernelspec": {
   "display_name": ".venv",
   "language": "python",
   "name": "python3"
  },
  "language_info": {
   "codemirror_mode": {
    "name": "ipython",
    "version": 3
   },
   "file_extension": ".py",
   "mimetype": "text/x-python",
   "name": "python",
   "nbconvert_exporter": "python",
   "pygments_lexer": "ipython3",
   "version": "3.12.9"
  }
 },
 "nbformat": 4,
 "nbformat_minor": 5
}
