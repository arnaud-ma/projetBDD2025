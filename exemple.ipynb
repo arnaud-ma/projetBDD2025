{
 "cells": [
  {
   "cell_type": "code",
   "execution_count": 1,
   "id": "35c76d79",
   "metadata": {},
   "outputs": [],
   "source": [
    "import os\n",
    "\n",
    "import django\n",
    "\n",
    "os.environ.setdefault(\"DJANGO_SETTINGS_MODULE\", \"gestion_immo.settings\")\n",
    "os.environ[\"DJANGO_ALLOW_ASYNC_UNSAFE\"] = \"true\"\n",
    "django.setup()"
   ]
  },
  {
   "cell_type": "code",
   "execution_count": 2,
   "id": "49e0e60b",
   "metadata": {},
   "outputs": [
    {
     "data": {
      "text/plain": [
       "(<Utilisateur: Larry Bambelle (bambelle.larry@youhou.fr, +33158350027)>,\n",
       " <Acheteur: Larry Bambelle (bambelle.larry@youhou.fr, +33158350027)>,\n",
       " <Vendeur: Larry Bambelle (bambelle.larry@youhou.fr, +33158350027)>)"
      ]
     },
     "execution_count": 2,
     "metadata": {},
     "output_type": "execute_result"
    }
   ],
   "source": [
    "from agence.models import Acheteur, Utilisateur, Vendeur\n",
    "\n",
    "utilisateur = Utilisateur.objects.create(\n",
    "    nom=\"Bambelle\", prenom=\"Larry\", telephone=\"+33158350027\", email=\"bambelle.larry@youhou.fr\"\n",
    ")\n",
    "acheteur = Acheteur.objects.create(utilisateur_ptr=utilisateur)\n",
    "vendeur = Vendeur.objects.create(utilisateur_ptr=utilisateur)\n",
    "\n",
    "# besoin de cette ligne pour créer une instance enfant à partir d'une instance parent\n",
    "# ca fait 17 ans que des gens demandent que ce soit fait automatiquement mdr\n",
    "# https://code.djangoproject.com/ticket/7623\n",
    "acheteur.__dict__.update(utilisateur.__dict__)\n",
    "vendeur.__dict__.update(utilisateur.__dict__)\n",
    "\n",
    "utilisateur, acheteur, vendeur"
   ]
  },
  {
   "cell_type": "code",
   "execution_count": 4,
   "id": "bc3dd1b0",
   "metadata": {},
   "outputs": [
    {
     "data": {
      "text/plain": [
       "<Bien: vendeur: Larry Bambelle (bambelle.larry@youhou.fr, +33158350027), etat_bien: Prospection (1)>"
      ]
     },
     "execution_count": 4,
     "metadata": {},
     "output_type": "execute_result"
    }
   ],
   "source": [
    "from agence.models import Bien\n",
    "\n",
    "bien = Bien.objects.create(vendeur=vendeur)\n",
    "bien"
   ]
  }
 ],
 "metadata": {
  "kernelspec": {
   "display_name": ".venv",
   "language": "python",
   "name": "python3"
  },
  "language_info": {
   "codemirror_mode": {
    "name": "ipython",
    "version": 3
   },
   "file_extension": ".py",
   "mimetype": "text/x-python",
   "name": "python",
   "nbconvert_exporter": "python",
   "pygments_lexer": "ipython3",
   "version": "3.12.9"
  }
 },
 "nbformat": 4,
 "nbformat_minor": 5
}
